{
 "cells": [
  {
   "cell_type": "code",
   "execution_count": 1,
   "metadata": {
    "collapsed": false
   },
   "outputs": [],
   "source": [
    "%matplotlib inline\n",
    "from sympy import *\n",
    "init_printing()\n",
    "a, b, z1, z2, zj, zk= symbols('a b z_1 z_2 z_j z_k')\n",
    "k, m, n, i, j = symbols('k_B m n i j', integer=True)\n",
    "f, g, h = symbols('f g h', cls=Function)"
   ]
  },
  {
   "cell_type": "code",
   "execution_count": 2,
   "metadata": {
    "collapsed": false
   },
   "outputs": [],
   "source": [
    "g = a + b*zj*zk -(a+b)*zj\n",
    "h = g.subs({zj:zj, zk:zk})*g.subs({zj:zk, zk:1/zj})/ \\\n",
    "(g.subs({zj:zk, zk:zj})*g.subs({zj:1/zj, zk:zk}))\n",
    "h1 = h.subs({zj:z1, zk:z2})\n",
    "h2 = h.subs({zj:z1, zk:z2})\n",
    "\n",
    "f1 = z1**8 - h1\n",
    "f2 = z2**8 - h2\n",
    "roots = solve([f1.subs({a:1, b:2}), f2.subs({a:1, b:2})], [z1, z2])"
   ]
  },
  {
   "cell_type": "code",
   "execution_count": 3,
   "metadata": {
    "collapsed": false
   },
   "outputs": [
    {
     "name": "stdout",
     "output_type": "stream",
     "text": [
      "-12.0000000000000\n",
      "-6.00000000000000\n",
      "-9.0 - 1.0*I\n",
      "-9.0 + 1.0*I\n",
      "-11.1213203435596 + 0.707106781186548*I\n",
      "-6.87867965644036 - 0.707106781186548*I\n",
      "-11.1213203435596 - 0.707106781186548*I\n",
      "-6.87867965644036 + 0.707106781186548*I\n"
     ]
    }
   ],
   "source": [
    "for z in roots:\n",
    "    if z[0]*z[1]!=0:\n",
    "        ev = b*(z[0]+z[1]) + a*(1/z[0] + 1/z[1]) - 2*(a+b)\n",
    "        print ev.subs([(a,1), (b,2)]).evalf()"
   ]
  },
  {
   "cell_type": "code",
   "execution_count": null,
   "metadata": {
    "collapsed": true
   },
   "outputs": [],
   "source": []
  },
  {
   "cell_type": "code",
   "execution_count": null,
   "metadata": {
    "collapsed": true
   },
   "outputs": [],
   "source": []
  }
 ],
 "metadata": {
  "kernelspec": {
   "display_name": "Python 2",
   "language": "python",
   "name": "python2"
  },
  "language_info": {
   "codemirror_mode": {
    "name": "ipython",
    "version": 2
   },
   "file_extension": ".py",
   "mimetype": "text/x-python",
   "name": "python",
   "nbconvert_exporter": "python",
   "pygments_lexer": "ipython2",
   "version": "2.7.12"
  }
 },
 "nbformat": 4,
 "nbformat_minor": 0
}

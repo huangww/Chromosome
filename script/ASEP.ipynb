{
 "cells": [
  {
   "cell_type": "code",
   "execution_count": 40,
   "metadata": {
    "collapsed": false
   },
   "outputs": [
    {
     "data": {
      "text/html": [
       "<div id=\"glowscript\" class=\"glowscript\"></div>"
      ],
      "text/plain": [
       "<IPython.core.display.HTML object>"
      ]
     },
     "metadata": {},
     "output_type": "display_data"
    },
    {
     "data": {
      "application/javascript": [
       "window.__context = { glowscript_container: $(\"#glowscript\").removeAttr(\"id\")}"
      ],
      "text/plain": [
       "<IPython.core.display.Javascript object>"
      ]
     },
     "metadata": {},
     "output_type": "display_data"
    }
   ],
   "source": [
    "from vpython import *\n",
    "\n",
    "scene = canvas(width=800, height=480, background=vector(1,1,1))\n",
    "scene.center = vector(5., 0, 0)\n",
    "# lattice = cylinder()\n",
    "N = 10\n",
    "lattice = cylinder(pos=vector(0,0,0),axis=vector(N, 0, 0), radius=0.1, color=color.cyan, opacity=0.2)\n",
    "ticks = [curve(pos=[(i, -0.1, 0), (i, 0.1, 0)], color = color.blue) for i in range(N+1)]\n",
    "wallLeft = box(pos=vector(-0.05,0,0), length=0.05, height=1, width=1, color=color.orange)\n",
    "wallRight = box(pos=vector(N+0.05,0,0), length=0.05, height=1, width=1, color=color.orange)\n",
    "particles = [sphere(pos=vector(i, 0, 0), radius = 0.2,  color=color.green) for i in range(N/2)]\n",
    "\n",
    "\n",
    "\n",
    "particle = []\n"
   ]
  },
  {
   "cell_type": "code",
   "execution_count": null,
   "metadata": {
    "collapsed": true
   },
   "outputs": [],
   "source": []
  }
 ],
 "metadata": {
  "kernelspec": {
   "display_name": "Python 2",
   "language": "python",
   "name": "python2"
  },
  "language_info": {
   "codemirror_mode": {
    "name": "ipython",
    "version": 2
   },
   "file_extension": ".py",
   "mimetype": "text/x-python",
   "name": "python",
   "nbconvert_exporter": "python",
   "pygments_lexer": "ipython2",
   "version": "2.7.12"
  }
 },
 "nbformat": 4,
 "nbformat_minor": 0
}

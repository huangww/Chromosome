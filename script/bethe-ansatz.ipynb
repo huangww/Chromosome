{
 "cells": [
  {
   "cell_type": "code",
   "execution_count": 1,
   "metadata": {
    "collapsed": false
   },
   "outputs": [],
   "source": [
    "%matplotlib inline\n",
    "from sympy import *\n",
    "init_printing()\n",
    "x, x0, a, b, c, t, L, F, D, T, t0= symbols('x x0 a b c t L F D T tau_0')\n",
    "sigma, mu, xi = symbols('sigma mu xi')\n",
    "k, m, n = symbols('k_B m n', integer=True)\n",
    "f, g, h, p, q = symbols('f g h p q', cls=Function)"
   ]
  },
  {
   "cell_type": "code",
   "execution_count": 2,
   "metadata": {
    "collapsed": false
   },
   "outputs": [
    {
     "data": {
      "image/png": "[encoded data removed]",
      "text/latex": [
       "$$\\frac{2 L^{2} \\tau_{0} \\left(e^{\\frac{2 F a}{T k_{B}}} + 1\\right)^{2}}{L^{2} \\left(e^{\\frac{2 F a}{T k_{B}}} - 1\\right)^{2} + \\pi^{2} \\left(e^{\\frac{2 F a}{T k_{B}}} + 1\\right)^{2}}$$"
      ],
      "text/plain": [
       "                           2       \n",
       "               ⎛ 2⋅F⋅a    ⎞        \n",
       "               ⎜ ─────    ⎟        \n",
       "          2    ⎜ T⋅k_B    ⎟        \n",
       "       2⋅L ⋅τ₀⋅⎝ℯ      + 1⎠        \n",
       "───────────────────────────────────\n",
       "               2                  2\n",
       "   ⎛ 2⋅F⋅a    ⎞       ⎛ 2⋅F⋅a    ⎞ \n",
       "   ⎜ ─────    ⎟       ⎜ ─────    ⎟ \n",
       " 2 ⎜ T⋅k_B    ⎟     2 ⎜ T⋅k_B    ⎟ \n",
       "L ⋅⎝ℯ      - 1⎠  + π ⋅⎝ℯ      + 1⎠ "
      ]
     },
     "execution_count": 2,
     "metadata": {},
     "output_type": "execute_result"
    }
   ],
   "source": [
    "alpha = 1/(t0*(1+exp(-2*F*a/(k*T))))\n",
    "beta = exp(-2*F*a/(k*T))/(t0*(1+exp(-2*F*a/(k*T))))\n",
    "mu = alpha - beta\n",
    "D = (alpha + beta)/2\n",
    "lam = mu*mu/(4*D) + D * pi * pi/(L*L)\n",
    "tau = 1/lam\n",
    "tau0 = L*L/(D*pi*pi)\n",
    "#simplify(tau0) + simplify(tau - tau0)\n",
    "simplify(tau)"
   ]
  },
  {
   "cell_type": "code",
   "execution_count": 3,
   "metadata": {
    "collapsed": false
   },
   "outputs": [
    {
     "data": {
      "image/png": "[encoded data removed]",
      "text/plain": [
       "<matplotlib.figure.Figure at 0x10f3f2790>"
      ]
     },
     "metadata": {},
     "output_type": "display_data"
    },
    {
     "data": {
      "text/plain": [
       "<sympy.plotting.plot.Plot at 0x10f4c2c90>"
      ]
     },
     "execution_count": 3,
     "metadata": {},
     "output_type": "execute_result"
    }
   ],
   "source": [
    "plot(tau.subs({L:100, t0:1, F:1, k:1, a:1}), (T, 1, 1000))"
   ]
  },
  {
   "cell_type": "code",
   "execution_count": 20,
   "metadata": {
    "collapsed": false
   },
   "outputs": [
    {
     "name": "stdout",
     "output_type": "stream",
     "text": [
      "-L**4*a**2*xi*(exp(2*F*a/(T*k_B)) - 1)**2/(3*pi**2*T*k_B*(L**2*(exp(2*F*a/(T*k_B)) - 1)**2 + pi**2*(exp(2*F*a/(T*k_B)) + 1)**2)) + L**2*a**2*xi/(3*pi**2*T*k_B)\n"
     ]
    }
   ],
   "source": [
    "t0 = 2*a*a*xi/(12*k*T)\n",
    "alpha = 1/(t0*(1+exp(-2*F*a/(k*T))))\n",
    "beta = exp(-2*F*a/(k*T))/(t0*(1+exp(-2*F*a/(k*T))))\n",
    "mu = alpha - beta\n",
    "D = (alpha + beta)/2\n",
    "lam = mu*mu/(4*D) + D * pi * pi/(L*L)\n",
    "tau = 1/lam\n",
    "tau0 = L*L/(D*pi*pi)\n",
    "print simplify(tau0) + simplify(tau - tau0)"
   ]
  },
  {
   "cell_type": "code",
   "execution_count": 19,
   "metadata": {
    "collapsed": false
   },
   "outputs": [
    {
     "data": {
      "image/png": "[encoded data removed]",
      "text/plain": [
       "<matplotlib.figure.Figure at 0x10f95dc50>"
      ]
     },
     "metadata": {},
     "output_type": "display_data"
    },
    {
     "data": {
      "text/plain": [
       "<sympy.plotting.plot.Plot at 0x10f991590>"
      ]
     },
     "execution_count": 19,
     "metadata": {},
     "output_type": "execute_result"
    }
   ],
   "source": [
    "plot(tau.subs({L:100, F:1, k:1, a:1, c: 1./12, xi:1}), (T, 1, 1000))"
   ]
  },
  {
   "cell_type": "code",
   "execution_count": 18,
   "metadata": {
    "collapsed": false
   },
   "outputs": [
    {
     "data": {
      "image/png": "[encoded data removed]",
      "text/plain": [
       "<matplotlib.figure.Figure at 0x111607550>"
      ]
     },
     "metadata": {},
     "output_type": "display_data"
    },
    {
     "data": {
      "text/plain": [
       "<sympy.plotting.plot.Plot at 0x11193ca90>"
      ]
     },
     "execution_count": 18,
     "metadata": {},
     "output_type": "execute_result"
    }
   ],
   "source": [
    "plot(tau0.subs({L:100, T:1, k:1, a:1, c: 1./12, xi:1}), (F, 0.01, 1))"
   ]
  },
  {
   "cell_type": "code",
   "execution_count": 6,
   "metadata": {
    "collapsed": false
   },
   "outputs": [
    {
     "data": {
      "image/png": "[encoded data removed]",
      "text/latex": [
       "$$\\frac{1}{e^{2 L \\tanh{\\left (\\frac{F a}{T k_{B}} \\right )}} - 1} \\left(L \\left(e^{2 x \\tanh{\\left (\\frac{F a}{T k_{B}} \\right )}} - 1\\right) - x \\left(e^{2 L \\tanh{\\left (\\frac{F a}{T k_{B}} \\right )}} - 1\\right)\\right)$$"
      ],
      "text/plain": [
       "  ⎛         ⎛ F⋅a ⎞    ⎞     ⎛         ⎛ F⋅a ⎞    ⎞\n",
       "  ⎜ 2⋅x⋅tanh⎜─────⎟    ⎟     ⎜ 2⋅L⋅tanh⎜─────⎟    ⎟\n",
       "  ⎜         ⎝T⋅k_B⎠    ⎟     ⎜         ⎝T⋅k_B⎠    ⎟\n",
       "L⋅⎝ℯ                - 1⎠ - x⋅⎝ℯ                - 1⎠\n",
       "───────────────────────────────────────────────────\n",
       "                         ⎛ F⋅a ⎞                   \n",
       "                 2⋅L⋅tanh⎜─────⎟                   \n",
       "                         ⎝T⋅k_B⎠                   \n",
       "                ℯ                - 1               "
      ]
     },
     "execution_count": 6,
     "metadata": {},
     "output_type": "execute_result"
    }
   ],
   "source": [
    "f = L *(exp(mu/D * x) - 1) / (exp(mu/D *L) -1) - x\n",
    "simplify(f)"
   ]
  },
  {
   "cell_type": "code",
   "execution_count": 18,
   "metadata": {
    "collapsed": false
   },
   "outputs": [
    {
     "data": {
      "image/png": "[encoded data removed]",
      "text/plain": [
       "<matplotlib.figure.Figure at 0x10f95b550>"
      ]
     },
     "metadata": {},
     "output_type": "display_data"
    },
    {
     "data": {
      "text/plain": [
       "<sympy.plotting.plot.Plot at 0x10f6d9550>"
      ]
     },
     "execution_count": 18,
     "metadata": {},
     "output_type": "execute_result"
    }
   ],
   "source": [
    "plot(f.subs({L:100, F:1, a:1, T:-10, k:1, xi:1}), (x, 0, 100))\n",
    "#f.subs({L:100, F:1, a:1, T:10, k:1, xi:1})"
   ]
  },
  {
   "cell_type": "code",
   "execution_count": 17,
   "metadata": {
    "collapsed": false
   },
   "outputs": [
    {
     "data": {
      "image/png": "[encoded data removed]",
      "text/latex": [
       "$$21306.1816704401$$"
      ],
      "text/plain": [
       "21306.1816704401"
      ]
     },
     "execution_count": 17,
     "metadata": {},
     "output_type": "execute_result"
    }
   ],
   "source": [
    "(exp(mu/D * x) - 1).subs({L:100, F:1, a:1, T:10, k:1, xi:1, x:50}).simplify().evalf()"
   ]
  },
  {
   "cell_type": "code",
   "execution_count": null,
   "metadata": {
    "collapsed": true
   },
   "outputs": [],
   "source": []
  }
 ],
 "metadata": {
  "kernelspec": {
   "display_name": "Python 2",
   "language": "python",
   "name": "python2"
  },
  "language_info": {
   "codemirror_mode": {
    "name": "ipython",
    "version": 2
   },
   "file_extension": ".py",
   "mimetype": "text/x-python",
   "name": "python",
   "nbconvert_exporter": "python",
   "pygments_lexer": "ipython2",
   "version": "2.7.11"
  }
 },
 "nbformat": 4,
 "nbformat_minor": 0
}

{
 "cells": [
  {
   "cell_type": "code",
   "execution_count": 1,
   "metadata": {
    "collapsed": true
   },
   "outputs": [],
   "source": [
    "%matplotlib inline\n",
    "from sympy import *\n",
    "init_printing()\n"
   ]
  },
  {
   "cell_type": "code",
   "execution_count": 2,
   "metadata": {
    "collapsed": true
   },
   "outputs": [],
   "source": [
    "x, y, z, t, mu, r = symbols('x y z t mu r')\n",
    "k, m, n = symbols('k m n', integer=True)\n",
    "f, g, h = symbols('f g h', cls=Function)"
   ]
  },
  {
   "cell_type": "code",
   "execution_count": 3,
   "metadata": {
    "collapsed": false
   },
   "outputs": [
    {
     "data": {
      "image/png": "[encoded data removed]",
      "text/latex": [
       "$$\\frac{2 \\mu e^{2 \\mu x}}{e^{2 \\mu r} - 1} + \\sum_{n=1}^{\\infty} \\frac{2 e^{- \\frac{\\pi^{2} n^{2} t}{2 r^{2}}}}{r \\left(\\mu^{2} + \\frac{\\pi^{2} n^{2}}{r^{2}}\\right)} \\left(\\mu \\sin{\\left (\\frac{\\pi x}{r} n \\right )} + \\frac{\\pi n}{r} \\cos{\\left (\\frac{\\pi x}{r} n \\right )}\\right) \\left(\\mu \\sin{\\left (\\frac{\\pi y}{r} n \\right )} + \\frac{\\pi n}{r} \\cos{\\left (\\frac{\\pi y}{r} n \\right )}\\right) e^{- \\frac{\\mu^{2} t}{2} + \\mu \\left(- x + y\\right)}$$"
      ],
      "text/plain": [
       "                 ∞                                                            \n",
       "             _________                                                        \n",
       "             ╲                                                                \n",
       "              ╲                                                               \n",
       "               ╲                                                              \n",
       "                ╲        ⎛                      ⎛π⋅n⋅x⎞⎞ ⎛                    \n",
       "                 ╲       ⎜               π⋅n⋅cos⎜─────⎟⎟ ⎜               π⋅n⋅c\n",
       "                  ╲      ⎜     ⎛π⋅n⋅x⎞          ⎝  r  ⎠⎟ ⎜     ⎛π⋅n⋅y⎞        \n",
       "     2⋅μ⋅x         ╲   2⋅⎜μ⋅sin⎜─────⎟ + ──────────────⎟⋅⎜μ⋅sin⎜─────⎟ + ─────\n",
       "2⋅μ⋅ℯ               ╲    ⎝     ⎝  r  ⎠         r       ⎠ ⎝     ⎝  r  ⎠        \n",
       "────────── +        ╱  ───────────────────────────────────────────────────────\n",
       " 2⋅μ⋅r             ╱                                               ⎛      2  2\n",
       "ℯ      - 1        ╱                                                ⎜ 2   π ⋅n \n",
       "                 ╱                                               r⋅⎜μ  + ─────\n",
       "                ╱                                                  ⎜        2 \n",
       "               ╱                                                   ⎝       r  \n",
       "              ╱                                                               \n",
       "             ╱                                                                \n",
       "             ‾‾‾‾‾‾‾‾‾                                                        \n",
       "               n = 1                                                          \n",
       "\n",
       "                                          \n",
       "                                          \n",
       "                                          \n",
       "              2  2                        \n",
       "            -π ⋅n ⋅t      2               \n",
       "  ⎛π⋅n⋅y⎞⎞  ─────────    μ ⋅t             \n",
       "os⎜─────⎟⎟        2    - ──── + μ⋅(-x + y)\n",
       "  ⎝  r  ⎠⎟     2⋅r        2               \n",
       "─────────⎟⋅ℯ         ⋅ℯ                   \n",
       " r       ⎠                                \n",
       "──────────────────────────────────────────\n",
       "⎞                                         \n",
       "⎟                                         \n",
       "⎟                                         \n",
       "⎟                                         \n",
       "⎠                                         \n",
       "                                          \n",
       "                                          \n",
       "                                          \n",
       "                                          "
      ]
     },
     "execution_count": 3,
     "metadata": {},
     "output_type": "execute_result"
    }
   ],
   "source": [
    "h = 2/r*exp(mu*(y-x)-mu**2*t/2)*(exp(-pi**2*n**2/(2*r**2)*t)/(mu**2+pi**2*n**2/r**2))*(pi*n/r*cos(n*pi*x/r) + mu*sin(n*pi*x/r))*(pi*n/r*cos(n*pi*y/r) + mu*sin(n*pi*y/r))\n",
    "g = 2*mu*exp(2*mu*x)/(exp(2*mu*r) -1) + Sum(h, (n, 1, oo))\n",
    "g"
   ]
  },
  {
   "cell_type": "code",
   "execution_count": 6,
   "metadata": {
    "collapsed": false
   },
   "outputs": [
    {
     "data": {
      "image/png": "[encoded data removed]",
      "text/latex": [
       "$$\\frac{4 \\mu^{2}}{e^{2 \\mu r} - 1}$$"
      ],
      "text/plain": [
       "      2   \n",
       "   4⋅μ    \n",
       "──────────\n",
       " 2⋅μ⋅r    \n",
       "ℯ      - 1"
      ]
     },
     "execution_count": 6,
     "metadata": {},
     "output_type": "execute_result"
    }
   ],
   "source": [
    "diff(g, x).subs(x, 0).doit()"
   ]
  },
  {
   "cell_type": "code",
   "execution_count": 10,
   "metadata": {
    "collapsed": false
   },
   "outputs": [],
   "source": [
    "rhs = diff(diff(g, x), x)/2 + mu*diff(g, x)\n",
    "rhs = rhs.doit()"
   ]
  },
  {
   "cell_type": "code",
   "execution_count": 11,
   "metadata": {
    "collapsed": false
   },
   "outputs": [
    {
     "data": {
      "image/png": "[encoded data removed]",
      "text/latex": [
       "$$\\frac{1}{2 e^{2 \\mu r} - 2} \\left(8 \\mu^{3} e^{2 \\mu x} + 2 \\mu \\left(4 \\mu^{2} e^{2 \\mu x} + \\left(e^{2 \\mu r} - 1\\right) \\sum_{n=1}^{\\infty} - \\frac{2}{r^{2}} \\left(\\mu r \\sin{\\left (\\frac{\\pi y}{r} n \\right )} + \\pi n \\cos{\\left (\\frac{\\pi y}{r} n \\right )}\\right) e^{\\frac{\\mu}{2} \\left(- \\mu t - 2 x + 2 y\\right) - \\frac{\\pi^{2} n^{2} t}{2 r^{2}}} \\sin{\\left (\\frac{\\pi x}{r} n \\right )}\\right) + \\left(e^{2 \\mu r} - 1\\right) \\left(- 2 \\sum_{n=1}^{\\infty} - \\frac{1}{r^{3}} \\left(\\mu r \\sin{\\left (\\frac{\\pi x}{r} n \\right )} + \\pi n \\cos{\\left (\\frac{\\pi x}{r} n \\right )}\\right) \\left(\\mu r \\sin{\\left (\\frac{\\pi y}{r} n \\right )} + \\pi n \\cos{\\left (\\frac{\\pi y}{r} n \\right )}\\right) e^{\\frac{\\mu}{2} \\left(- \\mu t - 2 x + 2 y\\right) - \\frac{\\pi^{2} n^{2} t}{2 r^{2}}} + \\sum_{n=1}^{\\infty} \\frac{2}{r^{3} \\left(\\mu^{2} r^{2} + \\pi^{2} n^{2}\\right)} \\left(\\mu r \\sin{\\left (\\frac{\\pi y}{r} n \\right )} + \\pi n \\cos{\\left (\\frac{\\pi y}{r} n \\right )}\\right) \\left(\\mu^{3} r^{3} \\sin{\\left (\\frac{\\pi x}{r} n \\right )} - \\pi \\mu^{2} n r^{2} \\cos{\\left (\\frac{\\pi x}{r} n \\right )} + \\pi^{2} \\mu n^{2} r \\sin{\\left (\\frac{\\pi x}{r} n \\right )} - \\pi^{3} n^{3} \\cos{\\left (\\frac{\\pi x}{r} n \\right )}\\right) e^{\\frac{\\mu}{2} \\left(- \\mu t - 2 x + 2 y\\right) - \\frac{\\pi^{2} n^{2} t}{2 r^{2}}}\\right)\\right)$$"
      ],
      "text/plain": [
       "                  ⎛                              ∞                            \n",
       "                  ⎜                           _______                         \n",
       "                  ⎜                           ╲                               \n",
       "                  ⎜                            ╲                              \n",
       "                  ⎜                             ╲                             \n",
       "                  ⎜                              ╲                            \n",
       "                  ⎜                               ╲                           \n",
       "   3  2⋅μ⋅x       ⎜   2  2⋅μ⋅x   ⎛ 2⋅μ⋅r    ⎞      ╲     ⎛       ⎛π⋅n⋅y⎞      \n",
       "8⋅μ ⋅ℯ      + 2⋅μ⋅⎜4⋅μ ⋅ℯ      + ⎝ℯ      - 1⎠⋅     ╱  -2⋅⎜μ⋅r⋅sin⎜─────⎟ + π⋅n\n",
       "                  ⎜                               ╱      ⎝       ⎝  r  ⎠      \n",
       "                  ⎜                              ╱    ────────────────────────\n",
       "                  ⎜                             ╱                             \n",
       "                  ⎜                            ╱                              \n",
       "                  ⎜                           ╱                               \n",
       "                  ⎜                           ‾‾‾‾‾‾‾                         \n",
       "                  ⎝                            n = 1                          \n",
       "──────────────────────────────────────────────────────────────────────────────\n",
       "                                                                              \n",
       "                                                                              \n",
       "\n",
       "                                                        ⎞                ⎛    \n",
       "                                                        ⎟                ⎜    \n",
       "                                                        ⎟                ⎜    \n",
       "                                      2  2              ⎟                ⎜    \n",
       "              μ⋅(-μ⋅t - 2⋅x + 2⋅y)   π ⋅n ⋅t            ⎟                ⎜    \n",
       "              ──────────────────── - ───────            ⎟                ⎜    \n",
       "                       2                  2             ⎟                ⎜    \n",
       "    ⎛π⋅n⋅y⎞⎞                           2⋅r      ⎛π⋅n⋅x⎞ ⎟   ⎛ 2⋅μ⋅r    ⎞ ⎜    \n",
       "⋅cos⎜─────⎟⎟⋅ℯ                              ⋅sin⎜─────⎟ ⎟ + ⎝ℯ      - 1⎠⋅⎜- 2⋅\n",
       "    ⎝  r  ⎠⎠                                    ⎝  r  ⎠ ⎟                ⎜    \n",
       "────────────────────────────────────────────────────────⎟                ⎜    \n",
       "                2                                       ⎟                ⎜    \n",
       "               r                                        ⎟                ⎜    \n",
       "                                                        ⎟                ⎜    \n",
       "                                                        ⎟                ⎜    \n",
       "                                                        ⎠                ⎝    \n",
       "──────────────────────────────────────────────────────────────────────────────\n",
       "                                                                              \n",
       "                                                                              \n",
       "\n",
       "   ∞                                                                          \n",
       "_______                                                                       \n",
       "╲                                                                             \n",
       " ╲                                                                            \n",
       "  ╲                                                                           \n",
       "   ╲                                                                          \n",
       "    ╲                                                                         \n",
       "     ╲   ⎛       ⎛π⋅n⋅x⎞          ⎛π⋅n⋅x⎞⎞ ⎛       ⎛π⋅n⋅y⎞          ⎛π⋅n⋅y⎞⎞  \n",
       "     ╱  -⎜μ⋅r⋅sin⎜─────⎟ + π⋅n⋅cos⎜─────⎟⎟⋅⎜μ⋅r⋅sin⎜─────⎟ + π⋅n⋅cos⎜─────⎟⎟⋅ℯ\n",
       "    ╱    ⎝       ⎝  r  ⎠          ⎝  r  ⎠⎠ ⎝       ⎝  r  ⎠          ⎝  r  ⎠⎠  \n",
       "   ╱    ──────────────────────────────────────────────────────────────────────\n",
       "  ╱                                                        3                  \n",
       " ╱                                                        r                   \n",
       "╱                                                                             \n",
       "‾‾‾‾‾‾‾                                                                       \n",
       " n = 1                                                                        \n",
       "──────────────────────────────────────────────────────────────────────────────\n",
       "                                                       2⋅μ⋅r                  \n",
       "                                                    2⋅ℯ      - 2              \n",
       "\n",
       "                                     ∞                                        \n",
       "                                  _______                                     \n",
       "                                  ╲                                           \n",
       "                        2  2       ╲                                          \n",
       "μ⋅(-μ⋅t - 2⋅x + 2⋅y)   π ⋅n ⋅t      ╲                                         \n",
       "──────────────────── - ───────       ╲                                        \n",
       "         2                  2         ╲                                       \n",
       "                         2⋅r           ╲    ⎛       ⎛π⋅n⋅y⎞          ⎛π⋅n⋅y⎞⎞ \n",
       "                                +      ╱  2⋅⎜μ⋅r⋅sin⎜─────⎟ + π⋅n⋅cos⎜─────⎟⎟⋅\n",
       "                                      ╱     ⎝       ⎝  r  ⎠          ⎝  r  ⎠⎠ \n",
       "───────────────────────────────      ╱    ────────────────────────────────────\n",
       "                                    ╱                                         \n",
       "                                   ╱                                          \n",
       "                                  ╱                                           \n",
       "                                  ‾‾‾‾‾‾‾                                     \n",
       "                                   n = 1                                      \n",
       "──────────────────────────────────────────────────────────────────────────────\n",
       "                                                                              \n",
       "                                                                              \n",
       "\n",
       "                                                                              \n",
       "                                                                              \n",
       "                                                                              \n",
       "                                                                              \n",
       "                                                                              \n",
       "                                                                              \n",
       "                                                                              \n",
       "⎛ 3  3    ⎛π⋅n⋅x⎞      2    2    ⎛π⋅n⋅x⎞    2    2      ⎛π⋅n⋅x⎞    3  3    ⎛π⋅\n",
       "⎜μ ⋅r ⋅sin⎜─────⎟ - π⋅μ ⋅n⋅r ⋅cos⎜─────⎟ + π ⋅μ⋅n ⋅r⋅sin⎜─────⎟ - π ⋅n ⋅cos⎜──\n",
       "⎝         ⎝  r  ⎠                ⎝  r  ⎠                ⎝  r  ⎠            ⎝  \n",
       "──────────────────────────────────────────────────────────────────────────────\n",
       "                                3 ⎛ 2  2    2  2⎞                             \n",
       "                               r ⋅⎝μ ⋅r  + π ⋅n ⎠                             \n",
       "                                                                              \n",
       "                                                                              \n",
       "                                                                              \n",
       "──────────────────────────────────────────────────────────────────────────────\n",
       "                                                                              \n",
       "                                                                              \n",
       "\n",
       "                                     ⎞\n",
       "                                     ⎟\n",
       "                                     ⎟\n",
       "                               2  2  ⎟\n",
       "       μ⋅(-μ⋅t - 2⋅x + 2⋅y)   π ⋅n ⋅t⎟\n",
       "       ──────────────────── - ───────⎟\n",
       "                2                  2 ⎟\n",
       "n⋅x⎞⎞                           2⋅r  ⎟\n",
       "───⎟⎟⋅ℯ                              ⎟\n",
       "r  ⎠⎠                                ⎟\n",
       "─────────────────────────────────────⎟\n",
       "                                     ⎟\n",
       "                                     ⎟\n",
       "                                     ⎟\n",
       "                                     ⎟\n",
       "                                     ⎠\n",
       "──────────────────────────────────────\n",
       "                                      \n",
       "                                      "
      ]
     },
     "execution_count": 11,
     "metadata": {},
     "output_type": "execute_result"
    }
   ],
   "source": [
    "simplify(rhs - diff(g, t))"
   ]
  },
  {
   "cell_type": "code",
   "execution_count": null,
   "metadata": {
    "collapsed": true
   },
   "outputs": [],
   "source": []
  }
 ],
 "metadata": {
  "kernelspec": {
   "display_name": "Python 2",
   "language": "python",
   "name": "python2"
  },
  "language_info": {
   "codemirror_mode": {
    "name": "ipython",
    "version": 2
   },
   "file_extension": ".py",
   "mimetype": "text/x-python",
   "name": "python",
   "nbconvert_exporter": "python",
   "pygments_lexer": "ipython2",
   "version": "2.7.11"
  }
 },
 "nbformat": 4,
 "nbformat_minor": 0
}

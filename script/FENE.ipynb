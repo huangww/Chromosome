{
 "metadata": {
  "name": "",
  "signature": "sha256:d530f5ed36378607205a78a9d45d27dbf563e3111b28e0c045164404e74579e0"
 },
 "nbformat": 3,
 "nbformat_minor": 0,
 "worksheets": [
  {
   "cells": [
    {
     "cell_type": "code",
     "collapsed": false,
     "input": [
      "%matplotlib inline\n",
      "from sympy import *\n",
      "init_printing()"
     ],
     "language": "python",
     "metadata": {},
     "outputs": [],
     "prompt_number": 95
    },
    {
     "cell_type": "code",
     "collapsed": false,
     "input": [
      "r, r0, K, epsilon, sigma = symbols( 'r r0 K epsilon sigma')\n",
      "Efene = -K*r0*r0*log(1-(r/r0)**2)/2\n",
      "Plj = 4*epsilon*((sigma/r)**12-(sigma/r)**6) + epsilon\n",
      "Elj = Piecewise((Plj,r<=2**(Rational(1,6))*sigma),(0,r>2**(Rational(1,6))*sigma))\n",
      "E = Efene + Elj\n",
      "E"
     ],
     "language": "python",
     "metadata": {},
     "outputs": [
      {
       "latex": [
        "$$- \\frac{K r_{0}^{2}}{2} \\log{\\left (- \\frac{r^{2}}{r_{0}^{2}} + 1 \\right )} + \\begin{cases} 4 \\epsilon \\left(- \\frac{\\sigma^{6}}{r^{6}} + \\frac{\\sigma^{12}}{r^{12}}\\right) + \\epsilon & \\text{for}\\: r \\leq \\sqrt[6]{2} \\sigma \\\\0 & \\text{for}\\: r > \\sqrt[6]{2} \\sigma \\end{cases}$$"
       ],
       "metadata": {},
       "output_type": "pyout",
       "png": "[encoded data removed]",
       "prompt_number": 96,
       "text": [
        "           \u239b    2    \u239e                                           \n",
        "      2    \u239c   r     \u239f   \u239b\u23a7    \u239b   6    12\u239e                     \u239e\n",
        "  K\u22c5r\u2080 \u22c5log\u239c- \u2500\u2500\u2500 + 1\u239f   \u239c\u23aa    \u239c  \u03c3    \u03c3  \u239f              6 ___  \u239f\n",
        "           \u239c    2    \u239f   \u239c\u23aa4\u22c5\u03b5\u22c5\u239c- \u2500\u2500 + \u2500\u2500\u2500\u239f + \u03b5  for r \u2264 \u2572\u2571 2 \u22c5\u03c3\u239f\n",
        "           \u239d  r\u2080     \u23a0   \u239c\u23aa    \u239c   6    12\u239f                     \u239f\n",
        "- \u2500\u2500\u2500\u2500\u2500\u2500\u2500\u2500\u2500\u2500\u2500\u2500\u2500\u2500\u2500\u2500\u2500\u2500\u2500\u2500 + \u239c\u23a8    \u239d  r    r  \u23a0                     \u239f\n",
        "           2             \u239c\u23aa                                     \u239f\n",
        "                         \u239c\u23aa                              6 ___  \u239f\n",
        "                         \u239c\u23aa         0            for r > \u2572\u2571 2 \u22c5\u03c3\u239f\n",
        "                         \u239d\u23a9                                     \u23a0"
       ]
      }
     ],
     "prompt_number": 96
    },
    {
     "cell_type": "code",
     "collapsed": false,
     "input": [
      "force = E.diff(r)\n",
      "force"
     ],
     "language": "python",
     "metadata": {},
     "outputs": [
      {
       "latex": [
        "$$\\frac{K r}{- \\frac{r^{2}}{r_{0}^{2}} + 1} + \\begin{cases} 4 \\epsilon \\left(\\frac{6 \\sigma^{6}}{r^{7}} - \\frac{12 \\sigma^{12}}{r^{13}}\\right) & \\text{for}\\: r \\leq \\sqrt[6]{2} \\sigma \\\\0 & \\text{for}\\: r > \\sqrt[6]{2} \\sigma \\end{cases}$$"
       ],
       "metadata": {},
       "output_type": "pyout",
       "png": "[encoded data removed]",
       "prompt_number": 97,
       "text": [
        "            \u239b\u23a7    \u239b   6       12\u239e                 \u239e\n",
        "            \u239c\u23aa    \u239c6\u22c5\u03c3    12\u22c5\u03c3  \u239f          6 ___  \u239f\n",
        "            \u239c\u23aa4\u22c5\u03b5\u22c5\u239c\u2500\u2500\u2500\u2500 - \u2500\u2500\u2500\u2500\u2500\u2500\u239f  for r \u2264 \u2572\u2571 2 \u22c5\u03c3\u239f\n",
        "   K\u22c5r      \u239c\u23aa    \u239c  7      13  \u239f                 \u239f\n",
        "\u2500\u2500\u2500\u2500\u2500\u2500\u2500\u2500\u2500 + \u239c\u23a8    \u239d r      r    \u23a0                 \u239f\n",
        "    2       \u239c\u23aa                                    \u239f\n",
        "   r        \u239c\u23aa                             6 ___  \u239f\n",
        "- \u2500\u2500\u2500 + 1   \u239c\u23aa         0           for r > \u2572\u2571 2 \u22c5\u03c3\u239f\n",
        "    2       \u239d\u23a9                                    \u23a0\n",
        "  r\u2080                                               "
       ]
      }
     ],
     "prompt_number": 97
    },
    {
     "cell_type": "code",
     "collapsed": false,
     "input": [
      "lower = 0.8\n",
      "upper = 1.2\n",
      "force = force.subs({K:100, r0:upper, sigma:lower, r:1})\n",
      "x =solve(force, epsilon)\n",
      "x"
     ],
     "language": "python",
     "metadata": {},
     "outputs": [
      {
       "latex": [
        "$$\\left [ 129.668418803157\\right ]$$"
       ],
       "metadata": {},
       "output_type": "pyout",
       "png": "[encoded data removed]",
       "prompt_number": 127,
       "text": [
        "[129.668418803157]"
       ]
      }
     ],
     "prompt_number": 127
    },
    {
     "cell_type": "code",
     "collapsed": false,
     "input": [
      "plot(E.subs({K:100, r0:upper, sigma:lower, epsilon:x[0]}), \n",
      "     (r, lower - 0.05, upper + 0.05), \n",
      "     adaptive=False, \n",
      "     num_of_points=200)"
     ],
     "language": "python",
     "metadata": {},
     "outputs": [
      {
       "metadata": {},
       "output_type": "display_data",
       "png": "[encoded data removed]",
       "text": [
        "<matplotlib.figure.Figure at 0x113124510>"
       ]
      },
      {
       "metadata": {},
       "output_type": "pyout",
       "prompt_number": 128,
       "text": [
        "<sympy.plotting.plot.Plot at 0x113147650>"
       ]
      }
     ],
     "prompt_number": 128
    },
    {
     "cell_type": "code",
     "collapsed": false,
     "input": [],
     "language": "python",
     "metadata": {},
     "outputs": []
    }
   ],
   "metadata": {}
  }
 ]
}
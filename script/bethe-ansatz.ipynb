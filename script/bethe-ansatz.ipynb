{
 "cells": [
  {
   "cell_type": "code",
   "execution_count": 1,
   "metadata": {
    "collapsed": false
   },
   "outputs": [],
   "source": [
    "%matplotlib inline\n",
    "from sympy import *\n",
    "init_printing()\n",
    "x, x0, a, b, c, t, L, F, D, T, t0= symbols('x x0 a b c t L F D T tau_0')\n",
    "sigma, mu, xi = symbols('sigma mu xi')\n",
    "k, m, n, i, j = symbols('k_B m n i j', integer=True)\n",
    "f, g, h, p, q = symbols('f g h p q', cls=Function)"
   ]
  },
  {
   "cell_type": "markdown",
   "metadata": {},
   "source": [
    "# Relaxation time"
   ]
  },
  {
   "cell_type": "code",
   "execution_count": 2,
   "metadata": {
    "collapsed": false
   },
   "outputs": [
    {
     "data": {
      "image/png": "[encoded data removed]",
      "text/latex": [
       "$$\\frac{2 L^{2} \\tau_{0} \\left(e^{\\frac{2 F a}{T k_{B}}} + 1\\right)^{2}}{L^{2} \\left(e^{\\frac{2 F a}{T k_{B}}} - 1\\right)^{2} + \\pi^{2} \\left(e^{\\frac{2 F a}{T k_{B}}} + 1\\right)^{2}}$$"
      ],
      "text/plain": [
       "                           2       \n",
       "               ⎛ 2⋅F⋅a    ⎞        \n",
       "               ⎜ ─────    ⎟        \n",
       "          2    ⎜ T⋅k_B    ⎟        \n",
       "       2⋅L ⋅τ₀⋅⎝ℯ      + 1⎠        \n",
       "───────────────────────────────────\n",
       "               2                  2\n",
       "   ⎛ 2⋅F⋅a    ⎞       ⎛ 2⋅F⋅a    ⎞ \n",
       "   ⎜ ─────    ⎟       ⎜ ─────    ⎟ \n",
       " 2 ⎜ T⋅k_B    ⎟     2 ⎜ T⋅k_B    ⎟ \n",
       "L ⋅⎝ℯ      - 1⎠  + π ⋅⎝ℯ      + 1⎠ "
      ]
     },
     "execution_count": 2,
     "metadata": {},
     "output_type": "execute_result"
    }
   ],
   "source": [
    "alpha = 1/(t0*(1+exp(-2*F*a/(k*T))))\n",
    "beta = exp(-2*F*a/(k*T))/(t0*(1+exp(-2*F*a/(k*T))))\n",
    "mu = beta - alpha\n",
    "D = (alpha + beta)/2\n",
    "lam = mu*mu/(4*D) + D * pi * pi/(L*L)\n",
    "tau = 1/lam\n",
    "tau0 = L*L/(D*pi*pi)\n",
    "#simplify(tau0) + simplify(tau - tau0)\n",
    "simplify(tau)"
   ]
  },
  {
   "cell_type": "code",
   "execution_count": 3,
   "metadata": {
    "collapsed": false
   },
   "outputs": [
    {
     "data": {
      "image/png": "[encoded data removed]",
      "text/plain": [
       "<matplotlib.figure.Figure at 0x10d6c7d10>"
      ]
     },
     "metadata": {},
     "output_type": "display_data"
    },
    {
     "data": {
      "text/plain": [
       "<sympy.plotting.plot.Plot at 0x10d593690>"
      ]
     },
     "execution_count": 3,
     "metadata": {},
     "output_type": "execute_result"
    }
   ],
   "source": [
    "plot(tau.subs({L:100, t0:1, F:1, k:1, a:1}), (T, 1, 1000))"
   ]
  },
  {
   "cell_type": "code",
   "execution_count": 4,
   "metadata": {
    "collapsed": false
   },
   "outputs": [
    {
     "name": "stdout",
     "output_type": "stream",
     "text": [
      "-L**4*a**2*xi*(exp(2*F*a/(T*k_B)) - 1)**2/(3*pi**2*T*k_B*(L**2*(exp(2*F*a/(T*k_B)) - 1)**2 + pi**2*(exp(2*F*a/(T*k_B)) + 1)**2)) + L**2*a**2*xi/(3*pi**2*T*k_B)\n"
     ]
    }
   ],
   "source": [
    "t0 = 2*a*a*xi/(12*k*T)\n",
    "alpha = 1/(t0*(1+exp(-2*F*a/(k*T))))\n",
    "beta = exp(-2*F*a/(k*T))/(t0*(1+exp(-2*F*a/(k*T))))\n",
    "mu = alpha - beta\n",
    "D = (alpha + beta)/2\n",
    "lam = mu*mu/(4*D) + D * pi * pi/(L*L)\n",
    "tau = 1/lam\n",
    "tau0 = L*L/(D*pi*pi)\n",
    "print simplify(tau0) + simplify(tau - tau0)"
   ]
  },
  {
   "cell_type": "code",
   "execution_count": 5,
   "metadata": {
    "collapsed": false
   },
   "outputs": [
    {
     "data": {
      "image/png": "[encoded data removed]",
      "text/plain": [
       "<matplotlib.figure.Figure at 0x10d7b7150>"
      ]
     },
     "metadata": {},
     "output_type": "display_data"
    },
    {
     "data": {
      "text/plain": [
       "<sympy.plotting.plot.Plot at 0x10d808a10>"
      ]
     },
     "execution_count": 5,
     "metadata": {},
     "output_type": "execute_result"
    }
   ],
   "source": [
    "plot(tau.subs({L:100, F:1, k:1, a:1, c: 1./12, xi:1}), (T, 1, 1000))"
   ]
  },
  {
   "cell_type": "code",
   "execution_count": 6,
   "metadata": {
    "collapsed": false
   },
   "outputs": [
    {
     "data": {
      "image/png": "[encoded data removed]",
      "text/plain": [
       "<matplotlib.figure.Figure at 0x10d8a9990>"
      ]
     },
     "metadata": {},
     "output_type": "display_data"
    },
    {
     "data": {
      "text/plain": [
       "<sympy.plotting.plot.Plot at 0x10d8de450>"
      ]
     },
     "execution_count": 6,
     "metadata": {},
     "output_type": "execute_result"
    }
   ],
   "source": [
    "plot(tau0.subs({L:100, T:1, k:1, a:1, c: 1./12, xi:1}), (F, 0.01, 1))"
   ]
  },
  {
   "cell_type": "markdown",
   "metadata": {},
   "source": [
    "# Mean and variance of bead position"
   ]
  },
  {
   "cell_type": "code",
   "execution_count": 2,
   "metadata": {
    "collapsed": false
   },
   "outputs": [],
   "source": [
    "t0 = 2*a*a*xi/(12*k*T)\n",
    "alpha = 1/(t0*(1+exp(-2*F*a/(k*T))))\n",
    "beta = exp(-2*F*a/(k*T))/(t0*(1+exp(-2*F*a/(k*T))))\n",
    "mu = beta - alpha\n",
    "D = (alpha + beta)/2"
   ]
  },
  {
   "cell_type": "code",
   "execution_count": 15,
   "metadata": {
    "collapsed": false
   },
   "outputs": [
    {
     "data": {
      "image/png": "[encoded data removed]",
      "text/plain": [
       "<matplotlib.figure.Figure at 0x11153a510>"
      ]
     },
     "metadata": {},
     "output_type": "display_data"
    },
    {
     "data": {
      "text/plain": [
       "<sympy.plotting.plot.Plot at 0x1112fc390>"
      ]
     },
     "execution_count": 15,
     "metadata": {},
     "output_type": "execute_result"
    }
   ],
   "source": [
    "mean = L*a*(exp(mu/D * x ) - 1) / (exp(mu/D *L) -1) - x*a\n",
    "mean_z = 2*T*a*log((1+exp(L/(2*T)))/(exp(x/(2*T))+exp((L-x)/(2*T))))\n",
    "plot(mean_z.subs({L:100,T:1, a:1}),\n",
    "     mean.subs({L:100, F:1, a:1, T:1, k:1, xi:1}), \n",
    "     (x, 0, 100))\n",
    "#f.subs({L:100, F:1, a:1, T:10, k:1, xi:1})"
   ]
  },
  {
   "cell_type": "code",
   "execution_count": 9,
   "metadata": {
    "collapsed": false
   },
   "outputs": [
    {
     "data": {
      "image/png": "[encoded data removed]",
      "text/latex": [
       "$$\\frac{2 L e^{2 \\left(L - 2 x\\right) \\tanh{\\left (\\frac{F a}{T k_{B}} \\right )}}}{\\left(e^{2 L \\tanh{\\left (\\frac{F a}{T k_{B}} \\right )}} - 1\\right)^{2}} \\left(e^{2 L \\tanh{\\left (\\frac{F a}{T k_{B}} \\right )}} - e^{2 x \\tanh{\\left (\\frac{F a}{T k_{B}} \\right )}}\\right) \\left(e^{2 x \\tanh{\\left (\\frac{F a}{T k_{B}} \\right )}} - 1\\right)$$"
      ],
      "text/plain": [
       "    ⎛         ⎛ F⋅a ⎞            ⎛ F⋅a ⎞⎞ ⎛         ⎛ F⋅a ⎞    ⎞              \n",
       "    ⎜ 2⋅L⋅tanh⎜─────⎟    2⋅x⋅tanh⎜─────⎟⎟ ⎜ 2⋅x⋅tanh⎜─────⎟    ⎟  2⋅(L - 2⋅x)⋅\n",
       "    ⎜         ⎝T⋅k_B⎠            ⎝T⋅k_B⎠⎟ ⎜         ⎝T⋅k_B⎠    ⎟              \n",
       "2⋅L⋅⎝ℯ                - ℯ               ⎠⋅⎝ℯ                - 1⎠⋅ℯ            \n",
       "──────────────────────────────────────────────────────────────────────────────\n",
       "                                                       2                      \n",
       "                                 ⎛         ⎛ F⋅a ⎞    ⎞                       \n",
       "                                 ⎜ 2⋅L⋅tanh⎜─────⎟    ⎟                       \n",
       "                                 ⎜         ⎝T⋅k_B⎠    ⎟                       \n",
       "                                 ⎝ℯ                - 1⎠                       \n",
       "\n",
       "    ⎛ F⋅a ⎞\n",
       "tanh⎜─────⎟\n",
       "    ⎝T⋅k_B⎠\n",
       "           \n",
       "───────────\n",
       "           \n",
       "           \n",
       "           \n",
       "           \n",
       "           "
      ]
     },
     "execution_count": 9,
     "metadata": {},
     "output_type": "execute_result"
    }
   ],
   "source": [
    "var = 2 * L *(exp(mu/D * L) - exp(mu/D * x)) * (exp(mu/D * x) - 1)/ ((exp(mu/D *L) - 1)**2)\n",
    "simplify(var)"
   ]
  },
  {
   "cell_type": "code",
   "execution_count": 10,
   "metadata": {
    "collapsed": false
   },
   "outputs": [
    {
     "data": {
      "image/png": "[encoded data removed]",
      "text/plain": [
       "<matplotlib.figure.Figure at 0x10b9f1190>"
      ]
     },
     "metadata": {},
     "output_type": "display_data"
    },
    {
     "data": {
      "text/plain": [
       "<sympy.plotting.plot.Plot at 0x10dfb6ed0>"
      ]
     },
     "execution_count": 10,
     "metadata": {},
     "output_type": "execute_result"
    }
   ],
   "source": [
    "plot(var.subs({L:100, F:1, a:1, T:1000, k:1, xi:1}), (x, 0, 100))"
   ]
  },
  {
   "cell_type": "code",
   "execution_count": 3,
   "metadata": {
    "collapsed": false
   },
   "outputs": [],
   "source": [
    "mu_0, D_0 = symbols('mu_0 D_0')\n",
    "f = x + n * (exp(mu_0/D_0 * x) - 1)/(exp(mu_0*L/D_0)-1) - j + 1\n",
    "x1 = solve(f, x)[0]\n",
    "f = x + n * (exp(mu_0/D_0 * x) - 1)/(exp(mu_0*L/D_0)-1) - j \n",
    "x2 = solve(f, x)[0]\n",
    "p_j = 1 - (x2 - x1)\n",
    "val_mu = mu.subs({L:50, n:50, F:1, a:1, T:10, k:1, xi:1}).evalf()\n",
    "val_D = D.subs({L:50, n:50, F:1, a:1, T:10, k:1, xi:1}).evalf()\n",
    "p_j = p_j.subs({mu_0:val_mu, D_0:val_D, n:50, L:50})\n",
    "\n",
    "q = 1/(1+exp((F*a*(j-(L+1)/2))/(k*T)))\n",
    "fermi = q.subs({L:100, F:1, a:1, T:10, k:1})\n",
    "\n",
    "# import mpmath as mp\n",
    "# q = sqrt(beta/alpha).subs({F:1, a:1, k:1, T:10})\n",
    "# qfac = (mp.qfac(L, q)/(mp.qfac(L-x, q)*mp.qfac(x, q))).subs({L:100, x:10})\n",
    "\n",
    "# # plot(p_j, fermi, (j, 0, 100))"
   ]
  },
  {
   "cell_type": "code",
   "execution_count": 5,
   "metadata": {
    "collapsed": false
   },
   "outputs": [
    {
     "data": {
      "image/png": "[encoded data removed]",
      "text/plain": [
       "<matplotlib.figure.Figure at 0x11242bbd0>"
      ]
     },
     "metadata": {},
     "output_type": "display_data"
    },
    {
     "data": {
      "text/plain": [
       "<sympy.plotting.plot.Plot at 0x11242b290>"
      ]
     },
     "execution_count": 5,
     "metadata": {},
     "output_type": "execute_result"
    }
   ],
   "source": [
    "mu_0, D_0 = symbols('mu_0 D_0')\n",
    "f = x + n * (exp(mu_0/D_0 * x) - 1)/(exp(mu_0*L/D_0)-1) - m\n",
    "x0 = solve(f, x)[0]\n",
    "mean = a*(m - 2*x0)\n",
    "mean_z = 2*T*a*log((1+exp(n/(2*T)))/(exp(m/(2*T))+exp((n-m)/(2*T))))\n",
    "val_mu = mu.subs({L:100, n:50, F:1, a:1, T:1, k:1, xi:1}).evalf()\n",
    "val_D = D.subs({L:100, n:50, F:1, a:1, T:1, k:1, xi:1}).evalf()\n",
    "plot(\n",
    "    mean.subs({mu_0:val_mu, D_0:val_D, n:50, L:100, a:1}),\n",
    "    mean_z.subs({n:100, T:1, a:1}),\n",
    "     (m, 0, 100))"
   ]
  },
  {
   "cell_type": "code",
   "execution_count": 27,
   "metadata": {
    "collapsed": false
   },
   "outputs": [],
   "source": [
    "f = x + n * (exp(a * x) - 1)/(exp(a*L)-1) - m\n",
    "x0 = solve(f, x)[0]"
   ]
  },
  {
   "cell_type": "code",
   "execution_count": 16,
   "metadata": {
    "collapsed": false
   },
   "outputs": [
    {
     "data": {
      "image/png": "[encoded data removed]",
      "text/plain": [
       "<matplotlib.figure.Figure at 0x10d4c2610>"
      ]
     },
     "metadata": {},
     "output_type": "display_data"
    },
    {
     "data": {
      "text/plain": [
       "<sympy.plotting.plot.Plot at 0x10d402350>"
      ]
     },
     "execution_count": 16,
     "metadata": {},
     "output_type": "execute_result"
    }
   ],
   "source": [
    "# plot(x0.subs({L:100, n:50, a:-100}), (m, 0, 100))\n",
    "a0 = a*n*exp(a*(m*exp(L*a) - m + n)/(exp(L*a) - 1))/(exp(L*a) - 1)\n",
    "plot(a0.subs({a:-0.1, n:50, L:100}), (m, 0, 100))                                                    "
   ]
  },
  {
   "cell_type": "code",
   "execution_count": 32,
   "metadata": {
    "collapsed": false
   },
   "outputs": [],
   "source": [
    "x0\n",
    "dm = diff(x0, m)"
   ]
  },
  {
   "cell_type": "code",
   "execution_count": 7,
   "metadata": {
    "collapsed": false
   },
   "outputs": [
    {
     "data": {
      "image/png": "[encoded data removed]",
      "text/latex": [
       "$$x - \\frac{1}{a} \\log{\\left (e^{a \\left(- n + x\\right)} + 1 \\right )}$$"
      ],
      "text/plain": [
       "       ⎛ a⋅(-n + x)    ⎞\n",
       "    log⎝ℯ           + 1⎠\n",
       "x - ────────────────────\n",
       "             a          "
      ]
     },
     "execution_count": 7,
     "metadata": {},
     "output_type": "execute_result"
    }
   ],
   "source": [
    "f = 1 / (1 + exp(a*(x - n)))\n",
    "integrate(f, x)"
   ]
  },
  {
   "cell_type": "code",
   "execution_count": null,
   "metadata": {
    "collapsed": true
   },
   "outputs": [],
   "source": []
  }
 ],
 "metadata": {
  "kernelspec": {
   "display_name": "Python 2",
   "language": "python",
   "name": "python2"
  },
  "language_info": {
   "codemirror_mode": {
    "name": "ipython",
    "version": 2
   },
   "file_extension": ".py",
   "mimetype": "text/x-python",
   "name": "python",
   "nbconvert_exporter": "python",
   "pygments_lexer": "ipython2",
   "version": "2.7.12"
  }
 },
 "nbformat": 4,
 "nbformat_minor": 0
}
